{
 "cells": [
  {
   "cell_type": "code",
   "execution_count": 1,
   "id": "0a2dc632-7a44-461e-95be-532e4ac5d2b4",
   "metadata": {},
   "outputs": [],
   "source": [
    "import json"
   ]
  },
  {
   "cell_type": "code",
   "execution_count": 3,
   "id": "4e8bd543-0a83-4871-a9ad-c16c123429ac",
   "metadata": {},
   "outputs": [
    {
     "name": "stdout",
     "output_type": "stream",
     "text": [
      "Total lines: 6990280, Lines per file: 139805\n",
      "✅ JSON file successfully split into smaller parts!\n"
     ]
    }
   ],
   "source": [
    "input_file=r\"C:\\Users\\gauta\\OneDrive\\Desktop\\Datasets\\yelp_dataset\\yelp_academic_dataset_review.json\"\n",
    "output_prefix=\"split_file_\"\n",
    "num_files=50\n",
    "\n",
    "#Count total lines (objects) in file\n",
    "with open(input_file,\"r\",encoding=\"utf8\") as f:\n",
    "    total_lines=sum(1 for _ in f)\n",
    "\n",
    "lines_per_file=total_lines//num_files\n",
    "print(f\"Total lines: {total_lines}, Lines per file: {lines_per_file}\")\n",
    "\n",
    "with open(input_file,\"r\",encoding=\"utf8\") as f:\n",
    "    for i in range(num_files):\n",
    "         output_filename= f\"{output_prefix}{i+1}.json\"\n",
    "        \n",
    "         with open(output_filename, \"w\", encoding=\"utf8\" ) as out_file:\n",
    "             for j in range(lines_per_file):\n",
    "                 line = f.readline()\n",
    "                 if not line:\n",
    "                     break  # Stop if file ends early\n",
    "                 out_file.write(line)\n",
    "print(\"✅ JSON file successfully split into smaller parts!\")    "
   ]
  },
  {
   "cell_type": "code",
   "execution_count": null,
   "id": "081a2439-c0df-40b7-a123-11b88a31a68c",
   "metadata": {},
   "outputs": [],
   "source": []
  }
 ],
 "metadata": {
  "kernelspec": {
   "display_name": "Python 3 (ipykernel)",
   "language": "python",
   "name": "python3"
  },
  "language_info": {
   "codemirror_mode": {
    "name": "ipython",
    "version": 3
   },
   "file_extension": ".py",
   "mimetype": "text/x-python",
   "name": "python",
   "nbconvert_exporter": "python",
   "pygments_lexer": "ipython3",
   "version": "3.12.4"
  }
 },
 "nbformat": 4,
 "nbformat_minor": 5
}
